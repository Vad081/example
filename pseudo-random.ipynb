{
 "cells": [
  {
   "cell_type": "code",
   "execution_count": 32,
   "metadata": {},
   "outputs": [],
   "source": [
    "rand_list = []\n",
    "def rand(A,B,M,y0):\n",
    "    '''\n",
    "    Formula for modeling a pseudo-random sequence\n",
    "    \n",
    "    y0 - value\n",
    "    A и B - constants\n",
    "    М - large positive integer, the more M the more unique sequential numbers we will get \n",
    "    z = base element yi/(M-1). Uniformly distributed random variable on the interval (0; 1)\n",
    "    '''\n",
    "    for i in range(M):\n",
    "        y1 = (A*y0+B)%M\n",
    "        rand_list.append(y1/(M-1))\n",
    "        y0 = y1 \n",
    "    return rand_list"
   ]
  },
  {
   "cell_type": "code",
   "execution_count": null,
   "metadata": {},
   "outputs": [],
   "source": []
  }
 ],
 "metadata": {
  "kernelspec": {
   "display_name": "Python 3",
   "language": "python",
   "name": "python3"
  },
  "language_info": {
   "codemirror_mode": {
    "name": "ipython",
    "version": 3
   },
   "file_extension": ".py",
   "mimetype": "text/x-python",
   "name": "python",
   "nbconvert_exporter": "python",
   "pygments_lexer": "ipython3",
   "version": "3.7.6"
  }
 },
 "nbformat": 4,
 "nbformat_minor": 4
}
