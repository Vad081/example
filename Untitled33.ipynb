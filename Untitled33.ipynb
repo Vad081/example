{
 "cells": [
  {
   "cell_type": "code",
   "execution_count": 76,
   "metadata": {},
   "outputs": [],
   "source": [
    "import numpy as np\n",
    "import matplotlib.pyplot as plt\n",
    "import numpy.linalg"
   ]
  },
  {
   "cell_type": "code",
   "execution_count": 60,
   "metadata": {},
   "outputs": [],
   "source": [
    "x = np.array([15,14,12,10,9,8,7,5])\n",
    "y = np.array([150,145,120,100,95,75,70,55])"
   ]
  },
  {
   "cell_type": "code",
   "execution_count": 61,
   "metadata": {},
   "outputs": [
    {
     "data": {
      "text/plain": [
       "0.994832006747614"
      ]
     },
     "execution_count": 61,
     "metadata": {},
     "output_type": "execute_result"
    }
   ],
   "source": [
    "#Коэффициент корреляции\n",
    "\n",
    "# np.corrcoef(x,y)[1][0]\n",
    "\n",
    "\n",
    "def corcoef(x,y):\n",
    "    mean_x = np.mean(x)\n",
    "    mean_y = np.mean(y)\n",
    "    cor = (sum((x-mean_x)*(y-mean_y)))/((np.sqrt(sum((x-mean_x)**2)))*(np.sqrt(sum((y-mean_y)**2))))\n",
    "    return cor\n",
    "\n",
    "corcoef(x,y)"
   ]
  },
  {
   "cell_type": "code",
   "execution_count": 62,
   "metadata": {},
   "outputs": [
    {
     "data": {
      "text/plain": [
       "[<matplotlib.lines.Line2D at 0x7fc4e0a5c110>]"
      ]
     },
     "execution_count": 62,
     "metadata": {},
     "output_type": "execute_result"
    },
    {
     "data": {
      "image/png": "[encoded data removed]",
      "text/plain": [
       "<Figure size 432x288 with 1 Axes>"
      ]
     },
     "metadata": {
      "needs_background": "light"
     },
     "output_type": "display_data"
    }
   ],
   "source": [
    "# График функции\n",
    "plt.plot(x,y)"
   ]
  },
  {
   "cell_type": "code",
   "execution_count": 44,
   "metadata": {},
   "outputs": [],
   "source": [
    "from sklearn.linear_model import LinearRegression"
   ]
  },
  {
   "cell_type": "code",
   "execution_count": 71,
   "metadata": {},
   "outputs": [
    {
     "name": "stdout",
     "output_type": "stream",
     "text": [
      "[10.]\n",
      "1.2499999999999858\n"
     ]
    }
   ],
   "source": [
    "mdl = LinearRegression()\n",
    "x_new = x.reshape(-1,1)\n",
    "mdl.fit(x_new,y)\n",
    "print(mdl.coef_)\n",
    "print(mdl.intercept_)"
   ]
  },
  {
   "cell_type": "code",
   "execution_count": 83,
   "metadata": {},
   "outputs": [
    {
     "data": {
      "text/plain": [
       "array([ 1.25, 10.  ])"
      ]
     },
     "execution_count": 83,
     "metadata": {},
     "output_type": "execute_result"
    }
   ],
   "source": [
    "def regres(x,y):\n",
    "    ''' Уравнение парной регрессии'''\n",
    "    A = np.array([[len(x),sum(x)],[sum(x),sum(x**2)]])\n",
    "    B = np.array([sum(y),sum(x*y)])\n",
    "    return np.linalg.solve(A,B)\n",
    "regres(x,y)"
   ]
  },
  {
   "cell_type": "code",
   "execution_count": 85,
   "metadata": {},
   "outputs": [],
   "source": [
    "y_pred = mdl.predict(x_new)"
   ]
  },
  {
   "cell_type": "code",
   "execution_count": 102,
   "metadata": {},
   "outputs": [
    {
     "data": {
      "text/plain": [
       "0.9896907216494846"
      ]
     },
     "execution_count": 102,
     "metadata": {},
     "output_type": "execute_result"
    }
   ],
   "source": [
    "def det(x,y):\n",
    "    '''Функция для расчета коэффициента детерминцаии r**2'''\n",
    "    \n",
    "    mdl = LinearRegression()\n",
    "    mdl.fit(x.reshape(-1,1),y)\n",
    "    y_pred = mdl.predict(x.reshape(-1,1))\n",
    "    \n",
    "    return 1 - (sum((y-y_pred)**2))/(sum((y-np.mean(y))**2))\n",
    "    \n",
    "det(x,y)"
   ]
  },
  {
   "cell_type": "code",
   "execution_count": 16,
   "metadata": {},
   "outputs": [
    {
     "name": "stdout",
     "output_type": "stream",
     "text": [
      "fatal: remote origin already exists.\r\n"
     ]
    }
   ],
   "source": [
    "!git remote add origin https://github.com/Vad081/misc.git"
   ]
  },
  {
   "cell_type": "code",
   "execution_count": 17,
   "metadata": {},
   "outputs": [],
   "source": [
    "!git add Untitled33.ipynb"
   ]
  },
  {
   "cell_type": "code",
   "execution_count": 18,
   "metadata": {},
   "outputs": [
    {
     "name": "stdout",
     "output_type": "stream",
     "text": [
      "Auto packing the repository in background for optimum performance.\r\n",
      "See \"git help gc\" for manual housekeeping.\r\n",
      "warning: The last gc run reported the following. Please correct the root cause\r\n",
      "and remove .git/gc.log.\r\n",
      "Automatic cleanup will not be performed until the file is removed.\r\n",
      "\r\n",
      "warning: There are too many unreachable loose objects; run 'git prune' to remove them.\r\n",
      "\r\n",
      "[main d326a4a] rfr\r\n",
      " 1 file changed, 179 insertions(+)\r\n"
     ]
    }
   ],
   "source": [
    "!git commit -m 'rfr'"
   ]
  },
  {
   "cell_type": "code",
   "execution_count": 19,
   "metadata": {},
   "outputs": [
    {
     "name": "stdout",
     "output_type": "stream",
     "text": [
      "error: src refspec master does not match any\r\n",
      "\u001b[31merror: failed to push some refs to 'https://gitlab.com/cdpo-itmo/python2020_1.git'\r\n",
      "\u001b[m"
     ]
    }
   ],
   "source": [
    "!git push -u origin master"
   ]
  },
  {
   "cell_type": "code",
   "execution_count": null,
   "metadata": {},
   "outputs": [],
   "source": []
  }
 ],
 "metadata": {
  "kernelspec": {
   "display_name": "Python 3",
   "language": "python",
   "name": "python3"
  },
  "language_info": {
   "codemirror_mode": {
    "name": "ipython",
    "version": 3
   },
   "file_extension": ".py",
   "mimetype": "text/x-python",
   "name": "python",
   "nbconvert_exporter": "python",
   "pygments_lexer": "ipython3",
   "version": "3.7.6"
  }
 },
 "nbformat": 4,
 "nbformat_minor": 4
}
